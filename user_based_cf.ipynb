{
  "nbformat": 4,
  "nbformat_minor": 0,
  "metadata": {
    "colab": {
      "name": "user_based_cf.ipynb",
      "provenance": []
    },
    "kernelspec": {
      "name": "python3",
      "display_name": "Python 3"
    }
  },
  "cells": [
    {
      "cell_type": "code",
      "metadata": {
        "id": "L3AYcSd6y6GQ"
      },
      "source": [
        "import pandas as pd\r\n",
        "from collections import Counter"
      ],
      "execution_count": null,
      "outputs": []
    },
    {
      "cell_type": "code",
      "metadata": {
        "id": "Ed03iV6QzKC3"
      },
      "source": [
        "dataset= \"/content/dataset_ucf.txt\""
      ],
      "execution_count": null,
      "outputs": []
    },
    {
      "cell_type": "code",
      "metadata": {
        "id": "en_PrmoCzShN"
      },
      "source": [
        "df = pd.read_csv(dataset, engine='python', error_bad_lines=False, delimiter=\";\")\r\n",
        "df.head(10)"
      ],
      "execution_count": null,
      "outputs": []
    },
    {
      "cell_type": "code",
      "metadata": {
        "id": "aMVBwLqIzVDq"
      },
      "source": [
        "df = DataFrame.filter(items=['reviewerName', 'title', 'reviewerRating'])\r\n",
        "df.head(10)"
      ],
      "execution_count": null,
      "outputs": []
    },
    {
      "cell_type": "code",
      "metadata": {
        "id": "gbf6F3AyzXGR"
      },
      "source": [
        "column = ['reviewerName', 'title', 'reviewerRating']\r\n",
        "for columns in column:\r\n",
        "    missing = df[columns].isnull().value_counts()\r\n",
        "    print(missing)"
      ],
      "execution_count": null,
      "outputs": []
    },
    {
      "cell_type": "code",
      "metadata": {
        "id": "lMWmqtdUzZmP"
      },
      "source": [
        "# Remove non-ASCII char\r\n",
        "df = df.dropna(how='any')\r\n",
        "\r\n",
        "df = df[~df.reviewerName.str.contains(r'[^\\x00-\\x7F]')]\r\n",
        "df = df[~df.title.str.contains(r'[^\\x00-\\x7F]')]\r\n",
        "\r\n",
        "df = df.reset_index(drop=True)\r\n",
        "\r\n",
        "df.head(10)"
      ],
      "execution_count": null,
      "outputs": []
    },
    {
      "cell_type": "code",
      "metadata": {
        "id": "uN_D3ZNJzfHD"
      },
      "source": [
        "Counter(DataFrame['title'].head(20))"
      ],
      "execution_count": null,
      "outputs": []
    },
    {
      "cell_type": "code",
      "metadata": {
        "id": "9K9OoKPRziiF"
      },
      "source": [
        "df1 = df.set_index(['reviewerName', 'title']).sort_index()\r\n",
        "df1.head(30)"
      ],
      "execution_count": null,
      "outputs": []
    },
    {
      "cell_type": "code",
      "metadata": {
        "id": "MsQ0hPq0zmmP"
      },
      "source": [
        "# Convert to dict\r\n",
        "d = (DataFrame.groupby('reviewerName')['title','reviewerRating'].apply(lambda x: dict(x.values)).to_dict())"
      ],
      "execution_count": null,
      "outputs": []
    },
    {
      "cell_type": "code",
      "metadata": {
        "id": "JkSWgcN_zo6Z"
      },
      "source": [
        "def jarak_similarity(prefs,person1,person2):\r\n",
        "    si = {} \r\n",
        "    for item in prefs[person1]:\r\n",
        "        if item in prefs[person2]:\r\n",
        "            si[item]=1    \r\n",
        "    if len(si) == 0: \r\n",
        "        return 0\r\n",
        "    sum_of_squares = sum([pow(prefs[person1][item] - prefs[person2][item],2) \r\n",
        "                          for item in prefs[person1] if item in prefs[person2]])\r\n",
        "    return (1/(1+sum_of_squares))*100"
      ],
      "execution_count": null,
      "outputs": []
    },
    {
      "cell_type": "code",
      "metadata": {
        "id": "ByFO7cQmzrA2"
      },
      "source": [
        "def preferensi_mirip(prefs, person, n=20, similarity = jarak_similarity):\r\n",
        "    scores = [(similarity(prefs,person,other), other)\r\n",
        "            for other in prefs if other!=person]\r\n",
        "    scores.sort()\r\n",
        "    scores.reverse()\r\n",
        "    return scores[0:n]"
      ],
      "execution_count": null,
      "outputs": []
    },
    {
      "cell_type": "code",
      "metadata": {
        "id": "7QviBwwQzsCx"
      },
      "source": [
        "def get_recommendations(prefs, person, n=10, similarity = jarak_similarity):\r\n",
        "    totals = {} \r\n",
        "    simSums = {}\r\n",
        "    for other in prefs:\r\n",
        "        if other == person:\r\n",
        "            continue\r\n",
        "        sim = similarity(prefs, person, other)\r\n",
        "        if sim <= 0:\r\n",
        "            continue\r\n",
        "        for item in prefs[other]:\r\n",
        "            if item not in prefs[person] or prefs[person][item] == 0:\r\n",
        "                totals.setdefault(item,0) \r\n",
        "                totals[item] += prefs[other][item] * sim\r\n",
        "                simSums.setdefault(item,0)\r\n",
        "                simSums[item] += sim\r\n",
        "    rankings = [(total/simSums[item], item) for item, total in totals.items()]\r\n",
        "    rankings.sort()\r\n",
        "    rankings.reverse()\r\n",
        "    return rankings[0:n]"
      ],
      "execution_count": null,
      "outputs": []
    },
    {
      "cell_type": "code",
      "metadata": {
        "id": "mJztBhNuzuOq"
      },
      "source": [
        "preferensi_mirip(d, 'Desy Ramadhani')"
      ],
      "execution_count": null,
      "outputs": []
    },
    {
      "cell_type": "code",
      "metadata": {
        "id": "yeuZ_ZNpzvfw"
      },
      "source": [
        "get_recommendations(d, 'Desy Ramadhani')"
      ],
      "execution_count": null,
      "outputs": []
    }
  ]
}