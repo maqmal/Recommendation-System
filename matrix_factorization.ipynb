{
  "nbformat": 4,
  "nbformat_minor": 0,
  "metadata": {
    "colab": {
      "name": "matrix_factorization.ipynb",
      "provenance": []
    },
    "kernelspec": {
      "name": "python3",
      "display_name": "Python 3"
    }
  },
  "cells": [
    {
      "cell_type": "code",
      "metadata": {
        "id": "nB5zB7D20PcF"
      },
      "source": [
        "import numpy"
      ],
      "execution_count": null,
      "outputs": []
    },
    {
      "cell_type": "code",
      "metadata": {
        "id": "iE4Mw_IS0XJx"
      },
      "source": [
        "\"\"\"\r\n",
        "@INPUT:\r\n",
        "    R     : a matrix to be factorized, dimension N x M\r\n",
        "    P     : an initial matrix of dimension N x K\r\n",
        "    Q     : an initial matrix of dimension M x K\r\n",
        "    K     : the number of latent features\r\n",
        "    steps : the maximum number of steps to perform the optimisation\r\n",
        "    alpha : the learning rate\r\n",
        "    beta  : the regularization parameter\r\n",
        "@OUTPUT:\r\n",
        "    the final matrices P and Q\r\n",
        "\"\"\""
      ],
      "execution_count": null,
      "outputs": []
    },
    {
      "cell_type": "code",
      "metadata": {
        "id": "8Nqo9BkK0Y_Z"
      },
      "source": [
        "def matrix_factorization(R, P, Q, K, steps=5000, alpha=0.0002, beta=0.02):\r\n",
        "    Q = Q.T\r\n",
        "    for step in range(steps):\r\n",
        "        for i in range(len(R)):\r\n",
        "            for j in range(len(R[i])):\r\n",
        "                if R[i][j] > 0:\r\n",
        "                    eij = R[i][j] - numpy.dot(P[i,:],Q[:,j])\r\n",
        "                    for k in range(K):\r\n",
        "                        P[i][k] = P[i][k] + alpha * (2 * eij * Q[k][j] - beta * P[i][k])\r\n",
        "                        Q[k][j] = Q[k][j] + alpha * (2 * eij * P[i][k] - beta * Q[k][j])\r\n",
        "        eR = numpy.dot(P,Q)\r\n",
        "        e = 0\r\n",
        "        for i in range(len(R)):\r\n",
        "            for j in range(len(R[i])):\r\n",
        "                if R[i][j] > 0:\r\n",
        "                    e = e + pow(R[i][j] - numpy.dot(P[i,:],Q[:,j]), 2)\r\n",
        "                    for k in range(K):\r\n",
        "                        e = e + (beta/2) * ( pow(P[i][k],2) + pow(Q[k][j],2) )\r\n",
        "        if e < 0.001:\r\n",
        "            break\r\n",
        "    return P, Q.T"
      ],
      "execution_count": null,
      "outputs": []
    },
    {
      "cell_type": "code",
      "metadata": {
        "id": "R2R5ocgg0bcJ"
      },
      "source": [
        "if __name__ == \"__main__\":\r\n",
        "    R = [\r\n",
        "         [5,3,0,1],\r\n",
        "         [4,0,0,1],\r\n",
        "         [1,1,0,5],\r\n",
        "         [1,0,0,4],\r\n",
        "         [0,1,5,4],\r\n",
        "        ]\r\n",
        "\r\n",
        "    R = numpy.array(R)\r\n",
        "\r\n",
        "    N = len(R)\r\n",
        "    M = len(R[0])\r\n",
        "    K = 2\r\n",
        "\r\n",
        "    P = numpy.random.rand(N,K)\r\n",
        "    Q = numpy.random.rand(M,K)\r\n",
        "\r\n",
        "    nP, nQ = matrix_factorization(R, P, Q, K)\r\n",
        "    print(\"The original Matrix\")\r\n",
        "    print (R)\r\n",
        "    print(\"The approximation matrix by MF\")\r\n",
        "    print(numpy.dot(nP,nQ.T))"
      ],
      "execution_count": null,
      "outputs": []
    }
  ]
}